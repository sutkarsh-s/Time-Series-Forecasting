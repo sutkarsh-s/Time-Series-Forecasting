{
 "cells": [
  {
   "cell_type": "markdown",
   "id": "4ce08516",
   "metadata": {},
   "source": [
    "<a class=\"anchor\" id=\"0.1\"></a>\n",
    "\n",
    "## Table of Contents\n",
    "\n",
    "1. [Import libraries and set parameters](#1)\n",
    "1. [Download data](#2)\n",
    "1. [EDA](#3)\n",
    "   - [3.1 Market Cap](#3.1)\n",
    "   - [3.2 Cryptocurrency data](#3.2)\n",
    "   - [3.3 Cryptocurrency features data](#3.3)\n",
    "   - [3.4 Stationarity check](#3.4)\n",
    "   - [3.5 Identification of seasonality](#3.5)\n",
    "   - [3.6 EDA with Pandas Profiling Report](#3.6)   \n",
    "1. [FE](#4)\n",
    "   - [4.1 FE with TSFRESH](#4.1)\n",
    "   - [4.2 FE from technical features (Finance knowledge and Data Science)](#4.2)\n",
    "   - [4.3 Analysis of anomalies](#4.3)\n",
    "       - [4.3.1 Analysis of anomalies for \"Close\"](#4.3.1)\n",
    "       - [4.3.2 Analysis of anomalies for the first data difference \"Close_diff\"](#4.3.2)\n",
    "   - [4.4 Analysis of the impact of COVID-19 on the cryptocurrency rate](#4.4)\n",
    "   - [4.5 Get target, training, validation and test datasets for ML models](#4.5)\n",
    "1. [Model training and forecasting](#5)\n",
    "    - [5.1 Facebook Prophet](#5.1)\n",
    "    - [5.2 ARIMA](#5.2)\n",
    "        - [5.2.1 How to find the order of differencing (d) in ARIMA model](#5.2.1)\n",
    "        - [5.2.2 How to find the order of the AR term (p)](#5.2.2)\n",
    "        - [5.2.3 How to find the order of the MA term (q)](#5.2.3)\n",
    "        - [5.2.4 How to build the ARIMA Model with manually defined parameters](#5.2.4)\n",
    "        - [5.2.5 How to build the ARIMA automatically](#5.2.5)\n",
    "    - [5.3 Other ML models (Multi-factors models)](#5.3)\n",
    "        - [5.3.1 Set parameters for many models](#5.3.1)\n",
    "        - [5.3.2 Models training and forecasting](#5.3.2)\n",
    "    - [5.4 Choosing the main optimal model and forecasting](#5.4)\n",
    "    - [5.5 Feature importance study](#5.5)    "
   ]
  },
  {
   "cell_type": "markdown",
   "id": "dc652aed",
   "metadata": {},
   "source": [
    "1. Import libraries and set parameters"
   ]
  },
  {
   "cell_type": "code",
   "execution_count": 23,
   "id": "c14df883",
   "metadata": {},
   "outputs": [
    {
     "data": {
      "text/html": [
       "        <script type=\"text/javascript\">\n",
       "        window.PlotlyConfig = {MathJaxConfig: 'local'};\n",
       "        if (window.MathJax && window.MathJax.Hub && window.MathJax.Hub.Config) {window.MathJax.Hub.Config({SVG: {font: \"STIX-Web\"}});}\n",
       "        if (typeof require !== 'undefined') {\n",
       "        require.undef(\"plotly\");\n",
       "        requirejs.config({\n",
       "            paths: {\n",
       "                'plotly': ['https://cdn.plot.ly/plotly-2.12.1.min']\n",
       "            }\n",
       "        });\n",
       "        require(['plotly'], function(Plotly) {\n",
       "            window._Plotly = Plotly;\n",
       "        });\n",
       "        }\n",
       "        </script>\n",
       "        "
      ]
     },
     "metadata": {},
     "output_type": "display_data"
    },
    {
     "ename": "ModuleNotFoundError",
     "evalue": "No module named 'tsfresh'",
     "output_type": "error",
     "traceback": [
      "\u001b[1;31m---------------------------------------------------------------------------\u001b[0m",
      "\u001b[1;31mModuleNotFoundError\u001b[0m                       Traceback (most recent call last)",
      "\u001b[1;32m~\\AppData\\Local\\Temp/ipykernel_30840/2056132492.py\u001b[0m in \u001b[0;36m<module>\u001b[1;34m\u001b[0m\n\u001b[0;32m     21\u001b[0m \u001b[1;33m\u001b[0m\u001b[0m\n\u001b[0;32m     22\u001b[0m \u001b[1;31m# FE\u001b[0m\u001b[1;33m\u001b[0m\u001b[1;33m\u001b[0m\u001b[0m\n\u001b[1;32m---> 23\u001b[1;33m \u001b[1;32mfrom\u001b[0m \u001b[0mtsfresh\u001b[0m \u001b[1;32mimport\u001b[0m \u001b[0mextract_features\u001b[0m\u001b[1;33m,\u001b[0m \u001b[0mselect_features\u001b[0m\u001b[1;33m,\u001b[0m \u001b[0mextract_relevant_features\u001b[0m\u001b[1;33m\u001b[0m\u001b[1;33m\u001b[0m\u001b[0m\n\u001b[0m\u001b[0;32m     24\u001b[0m \u001b[1;32mfrom\u001b[0m \u001b[0mtsfresh\u001b[0m\u001b[1;33m.\u001b[0m\u001b[0mutilities\u001b[0m\u001b[1;33m.\u001b[0m\u001b[0mdataframe_functions\u001b[0m \u001b[1;32mimport\u001b[0m \u001b[0mimpute\u001b[0m\u001b[1;33m\u001b[0m\u001b[1;33m\u001b[0m\u001b[0m\n\u001b[0;32m     25\u001b[0m \u001b[1;32mfrom\u001b[0m \u001b[0msklearn\u001b[0m\u001b[1;33m.\u001b[0m\u001b[0minspection\u001b[0m \u001b[1;32mimport\u001b[0m \u001b[0mpermutation_importance\u001b[0m\u001b[1;33m\u001b[0m\u001b[1;33m\u001b[0m\u001b[0m\n",
      "\u001b[1;31mModuleNotFoundError\u001b[0m: No module named 'tsfresh'"
     ]
    }
   ],
   "source": [
    "# Import libraries\n",
    "import random\n",
    "import os\n",
    "import numpy as np \n",
    "import pandas as pd \n",
    "import requests\n",
    "import pandas_datareader as web\n",
    "\n",
    "# Date\n",
    "import datetime as dt\n",
    "from datetime import date, timedelta, datetime\n",
    "\n",
    "# EDA\n",
    "import matplotlib.pyplot as plt\n",
    "from matplotlib.pylab import rcParams\n",
    "import plotly.express as px\n",
    "import plotly.graph_objects as go\n",
    "from plotly.offline import init_notebook_mode\n",
    "init_notebook_mode(connected=True)\n",
    "import pandas_profiling as pp\n",
    "\n",
    "# FE\n",
    "from tsfresh import extract_features, select_features, extract_relevant_features\n",
    "from tsfresh.utilities.dataframe_functions import impute\n",
    "from sklearn.inspection import permutation_importance\n",
    "import eli5\n",
    "from eli5.sklearn import PermutationImportance\n",
    "import shap\n",
    "\n",
    "# Time Series - EDA and Modelling\n",
    "import statsmodels.api as sm\n",
    "from statsmodels.graphics.tsaplots import plot_acf, plot_pacf\n",
    "from statsmodels.tsa.stattools import adfuller\n",
    "from statsmodels.tsa.seasonal import seasonal_decompose\n",
    "from statsmodels.tsa.arima_model import ARIMA\n",
    "\n",
    "# Metrics\n",
    "from sklearn.metrics import r2_score\n",
    "from sklearn.metrics import mean_squared_error, mean_absolute_percentage_error\n",
    "\n",
    "# Modeling and preprocessing\n",
    "from sklearn.preprocessing import StandardScaler, MinMaxScaler\n",
    "from sklearn.model_selection import train_test_split, GridSearchCV\n",
    "from sklearn.linear_model import LinearRegression\n",
    "from sklearn.svm import SVR, LinearSVR\n",
    "from sklearn.neighbors import KNeighborsRegressor\n",
    "from sklearn.ensemble import RandomForestRegressor\n",
    "from sklearn.ensemble import BaggingRegressor, AdaBoostRegressor\n",
    "from sklearn.neural_network import MLPRegressor\n",
    "from prophet import Prophet\n",
    "import xgboost as xgb\n",
    "from xgboost import XGBRegressor\n",
    "import lightgbm as lgb\n",
    "from lightgbm import LGBMRegressor\n",
    "\n",
    "import warnings\n",
    "warnings.filterwarnings(\"ignore\")"
   ]
  },
  {
   "cell_type": "code",
   "execution_count": 22,
   "id": "819bd8f7",
   "metadata": {},
   "outputs": [
    {
     "ename": "SyntaxError",
     "evalue": "invalid syntax (Temp/ipykernel_30840/2545233521.py, line 4)",
     "output_type": "error",
     "traceback": [
      "\u001b[1;36m  File \u001b[1;32m\"C:\\Users\\singh\\AppData\\Local\\Temp/ipykernel_30840/2545233521.py\"\u001b[1;36m, line \u001b[1;32m4\u001b[0m\n\u001b[1;33m    conda install -c conda-forge pandas-profiling\u001b[0m\n\u001b[1;37m          ^\u001b[0m\n\u001b[1;31mSyntaxError\u001b[0m\u001b[1;31m:\u001b[0m invalid syntax\n"
     ]
    }
   ],
   "source": [
    "# !pip install pandas_datareader\n",
    "# import sys\n",
    "# !{sys.executable} -m pip install pandas-profiling\n",
    "conda install -c conda-forge pandas-profiling"
   ]
  },
  {
   "cell_type": "code",
   "execution_count": 9,
   "id": "63b7fc1f",
   "metadata": {},
   "outputs": [],
   "source": [
    "# What EDA & FE techniques use?\n",
    "is_EDA_with_Pandas_Profiling = True # or False - Get Pandas Profiling Report or no?\n",
    "is_EDA_with_COVID19_data = True # or False - Make EDA with COVID-19 data or no?\n",
    "is_anomalies = True # or False - Take into account anomalies or no?"
   ]
  },
  {
   "cell_type": "code",
   "execution_count": 10,
   "id": "78ef2cd0",
   "metadata": {},
   "outputs": [],
   "source": [
    "# What type of model to use?\n",
    "is_Prophet = True   # or False - Facebook Prophet\n",
    "is_ARIMA = True     # or False - ARIMA and AutoARIMA\n",
    "is_other_ML = True  # or False - multi-factors models: trees, neural networks, etc."
   ]
  },
  {
   "cell_type": "code",
   "execution_count": 19,
   "id": "066288b8",
   "metadata": {},
   "outputs": [
    {
     "name": "stdout",
     "output_type": "stream",
     "text": [
      "Collecting pmdarima\n",
      "  Using cached pmdarima-2.0.1-cp39-cp39-win_amd64.whl (571 kB)\n",
      "Requirement already satisfied: pandas>=0.19 in c:\\programdata\\anaconda3\\lib\\site-packages (from pmdarima) (1.3.4)\n",
      "Requirement already satisfied: urllib3 in c:\\programdata\\anaconda3\\lib\\site-packages (from pmdarima) (1.26.7)\n",
      "Requirement already satisfied: setuptools!=50.0.0,>=38.6.0 in c:\\programdata\\anaconda3\\lib\\site-packages (from pmdarima) (58.0.4)\n",
      "Collecting statsmodels>=0.13.2\n",
      "  Using cached statsmodels-0.13.2-cp39-cp39-win_amd64.whl (9.1 MB)\n",
      "Requirement already satisfied: joblib>=0.11 in c:\\programdata\\anaconda3\\lib\\site-packages (from pmdarima) (1.1.0)\n",
      "Requirement already satisfied: scikit-learn>=0.22 in c:\\programdata\\anaconda3\\lib\\site-packages (from pmdarima) (0.24.2)\n",
      "Collecting numpy>=1.21\n",
      "  Using cached numpy-1.23.2-cp39-cp39-win_amd64.whl (14.7 MB)\n",
      "Requirement already satisfied: Cython!=0.29.18,!=0.29.31,>=0.29 in c:\\programdata\\anaconda3\\lib\\site-packages (from pmdarima) (0.29.24)\n",
      "Requirement already satisfied: scipy>=1.3.2 in c:\\programdata\\anaconda3\\lib\\site-packages (from pmdarima) (1.7.1)\n",
      "Requirement already satisfied: pytz>=2017.3 in c:\\programdata\\anaconda3\\lib\\site-packages (from pandas>=0.19->pmdarima) (2021.3)\n",
      "Requirement already satisfied: python-dateutil>=2.7.3 in c:\\programdata\\anaconda3\\lib\\site-packages (from pandas>=0.19->pmdarima) (2.8.2)\n",
      "Requirement already satisfied: six>=1.5 in c:\\programdata\\anaconda3\\lib\\site-packages (from python-dateutil>=2.7.3->pandas>=0.19->pmdarima) (1.16.0)\n",
      "Requirement already satisfied: threadpoolctl>=2.0.0 in c:\\programdata\\anaconda3\\lib\\site-packages (from scikit-learn>=0.22->pmdarima) (2.2.0)\n",
      "  Using cached numpy-1.22.4-cp39-cp39-win_amd64.whl (14.7 MB)\n",
      "Requirement already satisfied: patsy>=0.5.2 in c:\\programdata\\anaconda3\\lib\\site-packages (from statsmodels>=0.13.2->pmdarima) (0.5.2)\n",
      "Collecting packaging>=21.3\n",
      "  Using cached packaging-21.3-py3-none-any.whl (40 kB)\n",
      "Requirement already satisfied: pyparsing!=3.0.5,>=2.0.2 in c:\\programdata\\anaconda3\\lib\\site-packages (from packaging>=21.3->statsmodels>=0.13.2->pmdarima) (3.0.4)\n",
      "Installing collected packages: numpy, packaging, statsmodels, pmdarima\n",
      "  Attempting uninstall: numpy\n",
      "    Found existing installation: numpy 1.20.3\n",
      "    Uninstalling numpy-1.20.3:\n"
     ]
    },
    {
     "name": "stderr",
     "output_type": "stream",
     "text": [
      "WARNING: Ignoring invalid distribution -umpy (c:\\programdata\\anaconda3\\lib\\site-packages)\n",
      "WARNING: Ignoring invalid distribution - (c:\\programdata\\anaconda3\\lib\\site-packages)\n",
      "WARNING: Ignoring invalid distribution -arkupsafe (c:\\programdata\\anaconda3\\lib\\site-packages)\n",
      "WARNING: Ignoring invalid distribution -umpy (c:\\programdata\\anaconda3\\lib\\site-packages)\n",
      "WARNING: Ignoring invalid distribution - (c:\\programdata\\anaconda3\\lib\\site-packages)\n",
      "WARNING: Ignoring invalid distribution -arkupsafe (c:\\programdata\\anaconda3\\lib\\site-packages)\n",
      "WARNING: Ignoring invalid distribution -umpy (c:\\programdata\\anaconda3\\lib\\site-packages)\n",
      "WARNING: Ignoring invalid distribution - (c:\\programdata\\anaconda3\\lib\\site-packages)\n",
      "WARNING: Ignoring invalid distribution -arkupsafe (c:\\programdata\\anaconda3\\lib\\site-packages)\n",
      "    WARNING: Ignoring invalid distribution -umpy (c:\\programdata\\anaconda3\\lib\\site-packages)\n",
      "    WARNING: Ignoring invalid distribution - (c:\\programdata\\anaconda3\\lib\\site-packages)\n",
      "    WARNING: Ignoring invalid distribution -arkupsafe (c:\\programdata\\anaconda3\\lib\\site-packages)\n",
      "ERROR: Could not install packages due to an OSError: [WinError 5] Access is denied: 'c:\\\\programdata\\\\anaconda3\\\\lib\\\\site-packages\\\\numpy-1.20.3.dist-info\\\\direct_url.json'\n",
      "Consider using the `--user` option or check the permissions.\n",
      "\n",
      "WARNING: Ignoring invalid distribution -umpy (c:\\programdata\\anaconda3\\lib\\site-packages)\n",
      "WARNING: Ignoring invalid distribution - (c:\\programdata\\anaconda3\\lib\\site-packages)\n",
      "WARNING: Ignoring invalid distribution -arkupsafe (c:\\programdata\\anaconda3\\lib\\site-packages)\n",
      "WARNING: Ignoring invalid distribution -umpy (c:\\programdata\\anaconda3\\lib\\site-packages)\n",
      "WARNING: Ignoring invalid distribution - (c:\\programdata\\anaconda3\\lib\\site-packages)\n",
      "WARNING: Ignoring invalid distribution -arkupsafe (c:\\programdata\\anaconda3\\lib\\site-packages)\n",
      "WARNING: Ignoring invalid distribution -umpy (c:\\programdata\\anaconda3\\lib\\site-packages)\n",
      "WARNING: Ignoring invalid distribution - (c:\\programdata\\anaconda3\\lib\\site-packages)\n",
      "WARNING: Ignoring invalid distribution -arkupsafe (c:\\programdata\\anaconda3\\lib\\site-packages)\n"
     ]
    },
    {
     "ename": "ModuleNotFoundError",
     "evalue": "No module named 'pmdarima'",
     "output_type": "error",
     "traceback": [
      "\u001b[1;31m---------------------------------------------------------------------------\u001b[0m",
      "\u001b[1;31mModuleNotFoundError\u001b[0m                       Traceback (most recent call last)",
      "\u001b[1;32m~\\AppData\\Local\\Temp/ipykernel_30840/86643615.py\u001b[0m in \u001b[0;36m<module>\u001b[1;34m\u001b[0m\n\u001b[0;32m      2\u001b[0m \u001b[1;32mif\u001b[0m \u001b[0mis_ARIMA\u001b[0m\u001b[1;33m:\u001b[0m\u001b[1;33m\u001b[0m\u001b[1;33m\u001b[0m\u001b[0m\n\u001b[0;32m      3\u001b[0m     \u001b[0mget_ipython\u001b[0m\u001b[1;33m(\u001b[0m\u001b[1;33m)\u001b[0m\u001b[1;33m.\u001b[0m\u001b[0msystem\u001b[0m\u001b[1;33m(\u001b[0m\u001b[1;34m'pip install pmdarima'\u001b[0m\u001b[1;33m)\u001b[0m\u001b[1;33m\u001b[0m\u001b[1;33m\u001b[0m\u001b[0m\n\u001b[1;32m----> 4\u001b[1;33m     \u001b[1;32mimport\u001b[0m \u001b[0mpmdarima\u001b[0m \u001b[1;32mas\u001b[0m \u001b[0mpm\u001b[0m\u001b[1;33m\u001b[0m\u001b[1;33m\u001b[0m\u001b[0m\n\u001b[0m",
      "\u001b[1;31mModuleNotFoundError\u001b[0m: No module named 'pmdarima'"
     ]
    }
   ],
   "source": [
    "# Automatic building ARIMA for Time Series\n",
    "if is_ARIMA:\n",
    "    !pip install pmdarima\n",
    "    import pmdarima as pm"
   ]
  },
  {
   "cell_type": "code",
   "execution_count": 17,
   "id": "57a24bde",
   "metadata": {},
   "outputs": [],
   "source": [
    "# Set random state\n",
    "def fix_all_seeds(seed):\n",
    "    np.random.seed(seed)\n",
    "    random.seed(seed)\n",
    "    os.environ['PYTHONHASHSEED'] = str(seed)\n",
    "\n",
    "random_state = 42\n",
    "fix_all_seeds(random_state)"
   ]
  },
  {
   "cell_type": "markdown",
   "id": "794aef17",
   "metadata": {},
   "source": [
    "**TASK:** It is proposed to experiment with forecasting_days"
   ]
  },
  {
   "cell_type": "code",
   "execution_count": 18,
   "id": "5f49c7f1",
   "metadata": {},
   "outputs": [],
   "source": [
    "# Set main parameters\n",
    "cryptocurrency = 'BTC'\n",
    "target = 'Close'\n",
    "forecasting_days = 10  # forecasting_days > 1"
   ]
  },
  {
   "cell_type": "code",
   "execution_count": null,
   "id": "53806b63",
   "metadata": {},
   "outputs": [],
   "source": []
  }
 ],
 "metadata": {
  "kernelspec": {
   "display_name": "Python 3 (ipykernel)",
   "language": "python",
   "name": "python3"
  },
  "language_info": {
   "codemirror_mode": {
    "name": "ipython",
    "version": 3
   },
   "file_extension": ".py",
   "mimetype": "text/x-python",
   "name": "python",
   "nbconvert_exporter": "python",
   "pygments_lexer": "ipython3",
   "version": "3.9.7"
  }
 },
 "nbformat": 4,
 "nbformat_minor": 5
}
